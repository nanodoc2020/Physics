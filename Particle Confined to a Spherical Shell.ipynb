{
 "cells": [
  {
   "cell_type": "code",
   "execution_count": null,
   "metadata": {},
   "outputs": [],
   "source": []
  },
  {
   "cell_type": "markdown",
   "metadata": {},
   "source": [
    "# 1\n",
    "Make a sketch to understand the situation and look for symmetries"
   ]
  },
  {
   "cell_type": "code",
   "execution_count": null,
   "metadata": {},
   "outputs": [],
   "source": []
  },
  {
   "cell_type": "markdown",
   "metadata": {},
   "source": [
    "# 2\n",
    "Cast the Schroedinger equation into spherical polar coordinates and use separation of variables to solve.\n",
    "\n",
    "$$\n",
    "\\begin{align}\n",
    "-\\frac{\\hbar^{2}}{2m}\\nabla^{2}\\psi + V\\psi &= E\\psi\n",
    "\\end{align}\n",
    "$$\n",
    "\n",
    "\n",
    "\n"
   ]
  },
  {
   "cell_type": "markdown",
   "metadata": {},
   "source": [
    "$$\n",
    "\\begin{align}\n",
    "-\\frac{\\hbar^{2}}{2m}\\left[   \\frac{1}{r^{2}\\sin(\\theta)} \\left(\\frac{\\partial}{\\partial r}(r^{2}\\sin(\\theta)\\frac{\\partial}{\\partial r})\\right) + \\frac{\\partial}{\\partial\\theta}\\left(\\sin(\\theta)\\frac{\\partial}{\\partial\\theta}\\right) + \\frac{\\partial}{\\partial\\phi}\\left(\\frac{1}{\\sin(\\theta)}\\frac{\\partial}{\\partial\\phi}\\right) \\right]\\psi(r,\\theta,\\phi) +\n",
    "V(r,\\theta,\\phi)\\psi(r,\\theta,\\phi) &= E\\psi(r,\\theta,\\phi)\n",
    "\\end{align}\n",
    "$$"
   ]
  },
  {
   "cell_type": "markdown",
   "metadata": {},
   "source": [
    "Because the potential $V$ is infinite for $r<a$ and $r>b$, $\\psi=0$ in these regions. It cannot attain enough kinetic energy to penetrate them. This leaves only the middle region, where potential $V=0$. Substituting into the Schroedinger equation yields\n",
    "\n",
    "$$\n",
    "\\begin{align}\n",
    "-\\frac{\\hbar^{2}}{2m}\\left[   \\frac{1}{r^{2}\\sin(\\theta)} \\left(\\frac{\\partial}{\\partial r}(r^{2}\\sin(\\theta)\\frac{\\partial}{\\partial r}) + \\frac{\\partial}{\\partial\\theta}\\left(\\sin(\\theta)\\frac{\\partial}{\\partial\\theta}\\right) + \\frac{\\partial}{\\partial\\phi}\\left(\\frac{1}{\\sin(\\theta)}\\frac{\\partial}{\\partial\\phi}\\right) \\right)\\right]\\psi(r,\\theta,\\phi) &= E\\psi(r,\\theta,\\phi)\n",
    "\\end{align}\n",
    "$$\n"
   ]
  },
  {
   "cell_type": "markdown",
   "metadata": {},
   "source": [
    "Use the separation of variables technique to solve: $\\psi(r,\\theta,\\phi)=R(r)\\Theta(\\theta)\\Phi(\\phi) $\n",
    "\n",
    "$$\n",
    "\\begin{align}\n",
    "\\frac{\\partial^{2}}{\\partial\\phi^2}\\Phi&=-m^{2}\\Phi \\\\\n",
    "\\Phi&=e^{im\\phi}\n",
    "\\end{align}\n",
    "$$\n",
    "\n",
    "\n",
    "Finally, get $\\psi(r,\\theta,\\phi)=R(r)Y^{m}_{l}$ where $Y^{m}_{l}$are the Legendre Polynomials defined by:\n"
   ]
  },
  {
   "cell_type": "markdown",
   "metadata": {},
   "source": [
    "# 3\n",
    "$-l<m<l$\n",
    "\n",
    "$l = 0,1,2... (n-1)$\n",
    "\n",
    "$n=1$ and $l=1$ for the ground state. Hence, $m=0$.\n",
    "\n",
    "The quantum numbers for the ground state of a free particle trapped in a spherical shell are:\n",
    "\n",
    "$$\n",
    "\\begin{align}\n",
    "n&=1 \\\\\n",
    "l&=1 \\\\\n",
    "m&=0 \\\\\n",
    "\\end{align}\n",
    "$$"
   ]
  },
  {
   "cell_type": "markdown",
   "metadata": {},
   "source": [
    "# 4\n",
    "The energy of the ground state depends on these numbers.\n",
    "\n",
    "$$\n",
    "\\begin{align}\n",
    "E = \\frac{\\hbar^{2} k^{2}}{2m}\n",
    "\\end{align}\n",
    "$$"
   ]
  },
  {
   "cell_type": "code",
   "execution_count": null,
   "metadata": {},
   "outputs": [],
   "source": []
  },
  {
   "cell_type": "code",
   "execution_count": null,
   "metadata": {},
   "outputs": [],
   "source": []
  },
  {
   "cell_type": "code",
   "execution_count": null,
   "metadata": {},
   "outputs": [],
   "source": []
  },
  {
   "cell_type": "code",
   "execution_count": null,
   "metadata": {},
   "outputs": [],
   "source": []
  },
  {
   "cell_type": "code",
   "execution_count": null,
   "metadata": {},
   "outputs": [],
   "source": []
  },
  {
   "cell_type": "code",
   "execution_count": null,
   "metadata": {},
   "outputs": [],
   "source": []
  }
 ],
 "metadata": {
  "kernelspec": {
   "display_name": "Python 3",
   "language": "python",
   "name": "python3"
  },
  "language_info": {
   "codemirror_mode": {
    "name": "ipython",
    "version": 3
   },
   "file_extension": ".py",
   "mimetype": "text/x-python",
   "name": "python",
   "nbconvert_exporter": "python",
   "pygments_lexer": "ipython3",
   "version": "3.7.6"
  }
 },
 "nbformat": 4,
 "nbformat_minor": 4
}
